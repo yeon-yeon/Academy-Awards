{
 "cells": [
  {
   "cell_type": "markdown",
   "metadata": {},
   "source": [
    "# Introduction to the data"
   ]
  },
  {
   "cell_type": "code",
   "execution_count": 28,
   "metadata": {},
   "outputs": [
    {
     "data": {
      "text/html": [
       "<div>\n",
       "<table border=\"1\" class=\"dataframe\">\n",
       "  <thead>\n",
       "    <tr style=\"text-align: right;\">\n",
       "      <th></th>\n",
       "      <th>Year</th>\n",
       "      <th>Category</th>\n",
       "      <th>Nominee</th>\n",
       "      <th>Additional Info</th>\n",
       "      <th>Won?</th>\n",
       "      <th>Unnamed: 5</th>\n",
       "      <th>Unnamed: 6</th>\n",
       "      <th>Unnamed: 7</th>\n",
       "      <th>Unnamed: 8</th>\n",
       "      <th>Unnamed: 9</th>\n",
       "      <th>Unnamed: 10</th>\n",
       "    </tr>\n",
       "  </thead>\n",
       "  <tbody>\n",
       "    <tr>\n",
       "      <th>0</th>\n",
       "      <td>2010 (83rd)</td>\n",
       "      <td>Actor -- Leading Role</td>\n",
       "      <td>Javier Bardem</td>\n",
       "      <td>Biutiful {'Uxbal'}</td>\n",
       "      <td>NO</td>\n",
       "      <td>NaN</td>\n",
       "      <td>NaN</td>\n",
       "      <td>NaN</td>\n",
       "      <td>NaN</td>\n",
       "      <td>NaN</td>\n",
       "      <td>NaN</td>\n",
       "    </tr>\n",
       "    <tr>\n",
       "      <th>1</th>\n",
       "      <td>2010 (83rd)</td>\n",
       "      <td>Actor -- Leading Role</td>\n",
       "      <td>Jeff Bridges</td>\n",
       "      <td>True Grit {'Rooster Cogburn'}</td>\n",
       "      <td>NO</td>\n",
       "      <td>NaN</td>\n",
       "      <td>NaN</td>\n",
       "      <td>NaN</td>\n",
       "      <td>NaN</td>\n",
       "      <td>NaN</td>\n",
       "      <td>NaN</td>\n",
       "    </tr>\n",
       "    <tr>\n",
       "      <th>2</th>\n",
       "      <td>2010 (83rd)</td>\n",
       "      <td>Actor -- Leading Role</td>\n",
       "      <td>Jesse Eisenberg</td>\n",
       "      <td>The Social Network {'Mark Zuckerberg'}</td>\n",
       "      <td>NO</td>\n",
       "      <td>NaN</td>\n",
       "      <td>NaN</td>\n",
       "      <td>NaN</td>\n",
       "      <td>NaN</td>\n",
       "      <td>NaN</td>\n",
       "      <td>NaN</td>\n",
       "    </tr>\n",
       "    <tr>\n",
       "      <th>3</th>\n",
       "      <td>2010 (83rd)</td>\n",
       "      <td>Actor -- Leading Role</td>\n",
       "      <td>Colin Firth</td>\n",
       "      <td>The King's Speech {'King George VI'}</td>\n",
       "      <td>YES</td>\n",
       "      <td>NaN</td>\n",
       "      <td>NaN</td>\n",
       "      <td>NaN</td>\n",
       "      <td>NaN</td>\n",
       "      <td>NaN</td>\n",
       "      <td>NaN</td>\n",
       "    </tr>\n",
       "    <tr>\n",
       "      <th>4</th>\n",
       "      <td>2010 (83rd)</td>\n",
       "      <td>Actor -- Leading Role</td>\n",
       "      <td>James Franco</td>\n",
       "      <td>127 Hours {'Aron Ralston'}</td>\n",
       "      <td>NO</td>\n",
       "      <td>NaN</td>\n",
       "      <td>NaN</td>\n",
       "      <td>NaN</td>\n",
       "      <td>NaN</td>\n",
       "      <td>NaN</td>\n",
       "      <td>NaN</td>\n",
       "    </tr>\n",
       "  </tbody>\n",
       "</table>\n",
       "</div>"
      ],
      "text/plain": [
       "          Year               Category          Nominee  \\\n",
       "0  2010 (83rd)  Actor -- Leading Role    Javier Bardem   \n",
       "1  2010 (83rd)  Actor -- Leading Role     Jeff Bridges   \n",
       "2  2010 (83rd)  Actor -- Leading Role  Jesse Eisenberg   \n",
       "3  2010 (83rd)  Actor -- Leading Role      Colin Firth   \n",
       "4  2010 (83rd)  Actor -- Leading Role     James Franco   \n",
       "\n",
       "                          Additional Info Won? Unnamed: 5 Unnamed: 6  \\\n",
       "0                      Biutiful {'Uxbal'}   NO        NaN        NaN   \n",
       "1           True Grit {'Rooster Cogburn'}   NO        NaN        NaN   \n",
       "2  The Social Network {'Mark Zuckerberg'}   NO        NaN        NaN   \n",
       "3    The King's Speech {'King George VI'}  YES        NaN        NaN   \n",
       "4              127 Hours {'Aron Ralston'}   NO        NaN        NaN   \n",
       "\n",
       "  Unnamed: 7 Unnamed: 8 Unnamed: 9 Unnamed: 10  \n",
       "0        NaN        NaN        NaN         NaN  \n",
       "1        NaN        NaN        NaN         NaN  \n",
       "2        NaN        NaN        NaN         NaN  \n",
       "3        NaN        NaN        NaN         NaN  \n",
       "4        NaN        NaN        NaN         NaN  "
      ]
     },
     "execution_count": 28,
     "metadata": {},
     "output_type": "execute_result"
    }
   ],
   "source": [
    "import pandas as pd\n",
    "\n",
    "df = pd.read_csv('academy_awards.csv', encoding='ISO-8859-1')\n",
    "df.head(5)"
   ]
  },
  {
   "cell_type": "code",
   "execution_count": 29,
   "metadata": {},
   "outputs": [
    {
     "name": "stdout",
     "output_type": "stream",
     "text": [
      "*                                                                                                               7\n",
      " resilience                                                                                                     1\n",
      " discoverer of stars                                                                                            1\n",
      " error-prone measurements on sets. [Digital Imaging Technology]\"                                                1\n",
      " D.B. \"Don\" Keele and Mark E. Engebretson has resulted in the over 20-year dominance of constant-directivity    1\n",
      "Name: Unnamed: 5, dtype: int64\n",
      "[nan '*' ' resilience'\n",
      " ' D.B. \"Don\" Keele and Mark E. Engebretson has resulted in the over 20-year dominance of constant-directivity'\n",
      " ' error-prone measurements on sets. [Digital Imaging Technology]\"'\n",
      " ' discoverer of stars']\n",
      "*                                                                   9\n",
      " flexibility and water resistance                                   1\n",
      " direct radiator bass style cinema loudspeaker systems. [Sound]\"    1\n",
      " sympathetic                                                        1\n",
      "Name: Unnamed: 6, dtype: int64\n",
      "[nan ' flexibility and water resistance' '*'\n",
      " ' direct radiator bass style cinema loudspeaker systems. [Sound]\"'\n",
      " ' sympathetic']\n",
      " kindly                                               1\n",
      "*                                                     1\n",
      " while requiring no dangerous solvents. [Systems]\"    1\n",
      "Name: Unnamed: 7, dtype: int64\n",
      "[nan ' while requiring no dangerous solvents. [Systems]\"' '*' ' kindly']\n",
      " understanding comedy genius - Mack Sennett.\"\"    1\n",
      "*                                                 1\n",
      "Name: Unnamed: 8, dtype: int64\n",
      "[nan '*' ' understanding comedy genius - Mack Sennett.\"\"']\n",
      "*    1\n",
      "Name: Unnamed: 9, dtype: int64\n",
      "[nan '*']\n",
      "*    1\n",
      "Name: Unnamed: 10, dtype: int64\n",
      "[nan '*']\n"
     ]
    }
   ],
   "source": [
    "col = ['Unnamed: 5', 'Unnamed: 6', 'Unnamed: 7', 'Unnamed: 8', 'Unnamed: 9', 'Unnamed: 10']\n",
    "for c in col:\n",
    "    print(df[c].value_counts())\n",
    "    print(df[c].unique())"
   ]
  },
  {
   "cell_type": "markdown",
   "metadata": {},
   "source": [
    "There are no valid values we need in those 6 unnamed columns"
   ]
  },
  {
   "cell_type": "markdown",
   "metadata": {},
   "source": [
    "# Filtering the data\n",
    "- Year Column"
   ]
  },
  {
   "cell_type": "code",
   "execution_count": 30,
   "metadata": {},
   "outputs": [],
   "source": [
    "df['Year'] = df['Year'].str[0:4]\n",
    "df['Year'] = df['Year'].astype('int64')"
   ]
  },
  {
   "cell_type": "code",
   "execution_count": 31,
   "metadata": {},
   "outputs": [],
   "source": [
    "later_than_2000 = df[df['Year'] > 2000]"
   ]
  },
  {
   "cell_type": "markdown",
   "metadata": {},
   "source": [
    "- Category Column"
   ]
  },
  {
   "cell_type": "code",
   "execution_count": 32,
   "metadata": {},
   "outputs": [
    {
     "data": {
      "text/plain": [
       "array(['Actor -- Leading Role', 'Actor -- Supporting Role',\n",
       "       'Actress -- Leading Role', 'Actress -- Supporting Role'], dtype=object)"
      ]
     },
     "execution_count": 32,
     "metadata": {},
     "output_type": "execute_result"
    }
   ],
   "source": [
    "award_categories = ['Actor -- Leading Role', 'Actor -- Supporting Role', 'Actress -- Leading Role', 'Actress -- Supporting Role']\n",
    "nominations = later_than_2000[later_than_2000['Category'].isin(award_categories)]\n",
    "nominations['Category'].unique()"
   ]
  },
  {
   "cell_type": "markdown",
   "metadata": {},
   "source": [
    "# Cleaning up the columns(Won?&Unnamed)"
   ]
  },
  {
   "cell_type": "code",
   "execution_count": 33,
   "metadata": {
    "scrolled": true
   },
   "outputs": [
    {
     "name": "stderr",
     "output_type": "stream",
     "text": [
      "/dataquest/system/env/python3/lib/python3.4/site-packages/ipykernel/__main__.py:2: SettingWithCopyWarning: \n",
      "A value is trying to be set on a copy of a slice from a DataFrame.\n",
      "Try using .loc[row_indexer,col_indexer] = value instead\n",
      "\n",
      "See the caveats in the documentation: http://pandas.pydata.org/pandas-docs/stable/indexing.html#indexing-view-versus-copy\n",
      "  from ipykernel import kernelapp as app\n",
      "/dataquest/system/env/python3/lib/python3.4/site-packages/ipykernel/__main__.py:3: SettingWithCopyWarning: \n",
      "A value is trying to be set on a copy of a slice from a DataFrame.\n",
      "Try using .loc[row_indexer,col_indexer] = value instead\n",
      "\n",
      "See the caveats in the documentation: http://pandas.pydata.org/pandas-docs/stable/indexing.html#indexing-view-versus-copy\n",
      "  app.launch_new_instance()\n"
     ]
    },
    {
     "data": {
      "text/html": [
       "<div>\n",
       "<table border=\"1\" class=\"dataframe\">\n",
       "  <thead>\n",
       "    <tr style=\"text-align: right;\">\n",
       "      <th></th>\n",
       "      <th>Year</th>\n",
       "      <th>Category</th>\n",
       "      <th>Nominee</th>\n",
       "      <th>Additional Info</th>\n",
       "      <th>Won</th>\n",
       "    </tr>\n",
       "  </thead>\n",
       "  <tbody>\n",
       "    <tr>\n",
       "      <th>0</th>\n",
       "      <td>2010</td>\n",
       "      <td>Actor -- Leading Role</td>\n",
       "      <td>Javier Bardem</td>\n",
       "      <td>Biutiful {'Uxbal'}</td>\n",
       "      <td>0</td>\n",
       "    </tr>\n",
       "    <tr>\n",
       "      <th>1</th>\n",
       "      <td>2010</td>\n",
       "      <td>Actor -- Leading Role</td>\n",
       "      <td>Jeff Bridges</td>\n",
       "      <td>True Grit {'Rooster Cogburn'}</td>\n",
       "      <td>0</td>\n",
       "    </tr>\n",
       "  </tbody>\n",
       "</table>\n",
       "</div>"
      ],
      "text/plain": [
       "   Year               Category        Nominee                Additional Info  \\\n",
       "0  2010  Actor -- Leading Role  Javier Bardem             Biutiful {'Uxbal'}   \n",
       "1  2010  Actor -- Leading Role   Jeff Bridges  True Grit {'Rooster Cogburn'}   \n",
       "\n",
       "   Won  \n",
       "0    0  \n",
       "1    0  "
      ]
     },
     "execution_count": 33,
     "metadata": {},
     "output_type": "execute_result"
    }
   ],
   "source": [
    "replace_dict = {'YES': 1, 'NO': 0}\n",
    "nominations['Won?'] = nominations['Won?'].map(replace_dict)\n",
    "nominations['Won'] = nominations['Won?']\n",
    "\n",
    "drop_col = ['Won?', 'Unnamed: 5', 'Unnamed: 6', 'Unnamed: 7', 'Unnamed: 8', 'Unnamed: 9', 'Unnamed: 10']\n",
    "final_nominations = nominations.drop(drop_col, axis=1)\n",
    "final_nominations.head(2)"
   ]
  },
  {
   "cell_type": "markdown",
   "metadata": {},
   "source": [
    "# Cleaning up the Additional Info column"
   ]
  },
  {
   "cell_type": "code",
   "execution_count": 34,
   "metadata": {
    "scrolled": false
   },
   "outputs": [
    {
     "data": {
      "text/html": [
       "<div>\n",
       "<table border=\"1\" class=\"dataframe\">\n",
       "  <thead>\n",
       "    <tr style=\"text-align: right;\">\n",
       "      <th></th>\n",
       "      <th>Year</th>\n",
       "      <th>Category</th>\n",
       "      <th>Nominee</th>\n",
       "      <th>Won</th>\n",
       "      <th>Movie</th>\n",
       "      <th>Character</th>\n",
       "    </tr>\n",
       "  </thead>\n",
       "  <tbody>\n",
       "    <tr>\n",
       "      <th>0</th>\n",
       "      <td>2010</td>\n",
       "      <td>Actor -- Leading Role</td>\n",
       "      <td>Javier Bardem</td>\n",
       "      <td>0</td>\n",
       "      <td>Biutiful</td>\n",
       "      <td>Uxbal</td>\n",
       "    </tr>\n",
       "    <tr>\n",
       "      <th>1</th>\n",
       "      <td>2010</td>\n",
       "      <td>Actor -- Leading Role</td>\n",
       "      <td>Jeff Bridges</td>\n",
       "      <td>0</td>\n",
       "      <td>True Grit</td>\n",
       "      <td>Rooster Cogburn</td>\n",
       "    </tr>\n",
       "    <tr>\n",
       "      <th>2</th>\n",
       "      <td>2010</td>\n",
       "      <td>Actor -- Leading Role</td>\n",
       "      <td>Jesse Eisenberg</td>\n",
       "      <td>0</td>\n",
       "      <td>The Social Network</td>\n",
       "      <td>Mark Zuckerberg</td>\n",
       "    </tr>\n",
       "    <tr>\n",
       "      <th>3</th>\n",
       "      <td>2010</td>\n",
       "      <td>Actor -- Leading Role</td>\n",
       "      <td>Colin Firth</td>\n",
       "      <td>1</td>\n",
       "      <td>The King's Speech</td>\n",
       "      <td>King George VI</td>\n",
       "    </tr>\n",
       "    <tr>\n",
       "      <th>4</th>\n",
       "      <td>2010</td>\n",
       "      <td>Actor -- Leading Role</td>\n",
       "      <td>James Franco</td>\n",
       "      <td>0</td>\n",
       "      <td>127 Hours</td>\n",
       "      <td>Aron Ralston</td>\n",
       "    </tr>\n",
       "  </tbody>\n",
       "</table>\n",
       "</div>"
      ],
      "text/plain": [
       "   Year               Category          Nominee  Won               Movie  \\\n",
       "0  2010  Actor -- Leading Role    Javier Bardem    0            Biutiful   \n",
       "1  2010  Actor -- Leading Role     Jeff Bridges    0           True Grit   \n",
       "2  2010  Actor -- Leading Role  Jesse Eisenberg    0  The Social Network   \n",
       "3  2010  Actor -- Leading Role      Colin Firth    1   The King's Speech   \n",
       "4  2010  Actor -- Leading Role     James Franco    0           127 Hours   \n",
       "\n",
       "         Character  \n",
       "0            Uxbal  \n",
       "1  Rooster Cogburn  \n",
       "2  Mark Zuckerberg  \n",
       "3   King George VI  \n",
       "4     Aron Ralston  "
      ]
     },
     "execution_count": 34,
     "metadata": {},
     "output_type": "execute_result"
    }
   ],
   "source": [
    "additional_info_one = final_nominations['Additional Info'].str.rstrip(\"'}\")\n",
    "additional_info_two = additional_info_one.str.split(\" {'\")\n",
    "movie_names = additional_info_two.str[0]\n",
    "characters = additional_info_two.str[1]\n",
    "\n",
    "final_nominations['Movie'] = movie_names\n",
    "final_nominations['Character'] = characters\n",
    "final_nominations = final_nominations.drop('Additional Info', axis=1)\n",
    "final_nominations.head(5)"
   ]
  },
  {
   "cell_type": "markdown",
   "metadata": {},
   "source": [
    "# Exporting to SQLite"
   ]
  },
  {
   "cell_type": "code",
   "execution_count": 48,
   "metadata": {},
   "outputs": [
    {
     "data": {
      "text/plain": [
       "[(0, 'Year', 'INTEGER', 0, None, 0),\n",
       " (1, 'Category', 'TEXT', 0, None, 0),\n",
       " (2, 'Nominee', 'TEXT', 0, None, 0),\n",
       " (3, 'Won', 'INTEGER', 0, None, 0),\n",
       " (4, 'Movie', 'TEXT', 0, None, 0),\n",
       " (5, 'Character', 'TEXT', 0, None, 0)]"
      ]
     },
     "execution_count": 48,
     "metadata": {},
     "output_type": "execute_result"
    }
   ],
   "source": [
    "import sqlite3\n",
    "conn = sqlite3.connect('nominations.db')\n",
    "#final_nominations.to_sql('nominations', conn, index=False) the table was created already\n",
    "\n",
    "q = 'pragma table_info(nominations);'\n",
    "schema = conn.execute(q).fetchall()\n",
    "schema"
   ]
  },
  {
   "cell_type": "code",
   "execution_count": 46,
   "metadata": {},
   "outputs": [
    {
     "name": "stdout",
     "output_type": "stream",
     "text": [
      "[(2010, 'Actor -- Leading Role', 'Javier Bardem', 0, 'Biutiful', 'Uxbal'), (2010, 'Actor -- Leading Role', 'Jeff Bridges', 0, 'True Grit', 'Rooster Cogburn'), (2010, 'Actor -- Leading Role', 'Jesse Eisenberg', 0, 'The Social Network', 'Mark Zuckerberg'), (2010, 'Actor -- Leading Role', 'Colin Firth', 1, \"The King's Speech\", 'King George VI'), (2010, 'Actor -- Leading Role', 'James Franco', 0, '127 Hours', 'Aron Ralston'), (2010, 'Actor -- Supporting Role', 'Christian Bale', 1, 'The Fighter', 'Dicky Eklund'), (2010, 'Actor -- Supporting Role', 'John Hawkes', 0, \"Winter's Bone\", 'Teardrop'), (2010, 'Actor -- Supporting Role', 'Jeremy Renner', 0, 'The Town', 'James Coughlin'), (2010, 'Actor -- Supporting Role', 'Mark Ruffalo', 0, 'The Kids Are All Right', 'Paul'), (2010, 'Actor -- Supporting Role', 'Geoffrey Rush', 0, \"The King's Speech\", 'Lionel Logue')]\n"
     ]
    }
   ],
   "source": [
    "q2 = 'select * from nominations limit 10;'\n",
    "first_10 = conn.execute(q2).fetchall()\n",
    "print(first_10)"
   ]
  },
  {
   "cell_type": "code",
   "execution_count": 47,
   "metadata": {
    "collapsed": true
   },
   "outputs": [],
   "source": [
    "conn.close()"
   ]
  }
 ],
 "metadata": {
  "kernelspec": {
   "display_name": "Python 3",
   "language": "python",
   "name": "python3"
  },
  "language_info": {
   "codemirror_mode": {
    "name": "ipython",
    "version": 3
   },
   "file_extension": ".py",
   "mimetype": "text/x-python",
   "name": "python",
   "nbconvert_exporter": "python",
   "pygments_lexer": "ipython3",
   "version": "3.6.1"
  }
 },
 "nbformat": 4,
 "nbformat_minor": 1
}
