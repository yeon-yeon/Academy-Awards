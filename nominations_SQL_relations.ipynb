{
 "cells": [
  {
   "cell_type": "markdown",
   "metadata": {
    "collapsed": true
   },
   "source": [
    "# Introduction to the Data"
   ]
  },
  {
   "cell_type": "code",
   "execution_count": 1,
   "metadata": {},
   "outputs": [
    {
     "name": "stdout",
     "output_type": "stream",
     "text": [
      "(0, 'Year', 'INTEGER', 0, None, 0)\n",
      "(1, 'Category', 'TEXT', 0, None, 0)\n",
      "(2, 'Nominee', 'TEXT', 0, None, 0)\n",
      "(3, 'Won', 'INTEGER', 0, None, 0)\n",
      "(4, 'Movie', 'TEXT', 0, None, 0)\n",
      "(5, 'Character', 'TEXT', 0, None, 0)\n",
      "(2010, 'Actor -- Leading Role', 'Javier Bardem', 0, 'Biutiful', 'Uxbal')\n",
      "(2010, 'Actor -- Leading Role', 'Jeff Bridges', 0, 'True Grit', 'Rooster Cogburn')\n",
      "(2010, 'Actor -- Leading Role', 'Jesse Eisenberg', 0, 'The Social Network', 'Mark Zuckerberg')\n",
      "(2010, 'Actor -- Leading Role', 'Colin Firth', 1, \"The King's Speech\", 'King George VI')\n",
      "(2010, 'Actor -- Leading Role', 'James Franco', 0, '127 Hours', 'Aron Ralston')\n",
      "(2010, 'Actor -- Supporting Role', 'Christian Bale', 1, 'The Fighter', 'Dicky Eklund')\n",
      "(2010, 'Actor -- Supporting Role', 'John Hawkes', 0, \"Winter's Bone\", 'Teardrop')\n",
      "(2010, 'Actor -- Supporting Role', 'Jeremy Renner', 0, 'The Town', 'James Coughlin')\n",
      "(2010, 'Actor -- Supporting Role', 'Mark Ruffalo', 0, 'The Kids Are All Right', 'Paul')\n",
      "(2010, 'Actor -- Supporting Role', 'Geoffrey Rush', 0, \"The King's Speech\", 'Lionel Logue')\n"
     ]
    }
   ],
   "source": [
    "import sqlite3\n",
    "conn = sqlite3.connect(\"nominations.db\")\n",
    "schema = conn.execute(\"pragma table_info(nominations);\").fetchall()\n",
    "first_ten = conn.execute(\"select * from nominations limit 10;\").fetchall()\n",
    "\n",
    "for r in schema:\n",
    "    print(r)\n",
    "    \n",
    "for r in first_ten:\n",
    "    print(r)"
   ]
  },
  {
   "cell_type": "markdown",
   "metadata": {
    "collapsed": true
   },
   "source": [
    "# Creating the ceremonies table"
   ]
  },
  {
   "cell_type": "code",
   "execution_count": 2,
   "metadata": {},
   "outputs": [
    {
     "name": "stdout",
     "output_type": "stream",
     "text": [
      "[(1, 2010, 'Steve Martin'), (2, 2009, 'Hugh Jackman'), (3, 2008, 'Jon Stewart'), (4, 2007, 'Ellen DeGeneres'), (5, 2006, 'Jon Stewart'), (6, 2005, 'Chris Rock'), (7, 2004, 'Billy Crystal'), (8, 2003, 'Steve Martin'), (9, 2002, 'Whoopi Goldberg'), (10, 2001, 'Steve Martin')]\n",
      "[(0, 'id', 'integer', 0, None, 1), (1, 'Year', 'integer', 0, None, 0), (2, 'Host', 'text', 0, None, 0)]\n"
     ]
    }
   ],
   "source": [
    "#conn.execute('drop table ceremonies;')\n",
    "create_ceremonies = '''create table ceremonies (\n",
    "                    id integer primary key,\n",
    "                    Year integer,\n",
    "                    Host text                    \n",
    "            );'''\n",
    "conn.execute(create_ceremonies)\n",
    "\n",
    "years_hosts = [(2010, \"Steve Martin\"),\n",
    "               (2009, \"Hugh Jackman\"),\n",
    "               (2008, \"Jon Stewart\"),\n",
    "               (2007, \"Ellen DeGeneres\"),\n",
    "               (2006, \"Jon Stewart\"),\n",
    "               (2005, \"Chris Rock\"),\n",
    "               (2004, \"Billy Crystal\"),\n",
    "               (2003, \"Steve Martin\"),\n",
    "               (2002, \"Whoopi Goldberg\"),\n",
    "               (2001, \"Steve Martin\"),\n",
    "               (2000, \"Billy Crystal\"),\n",
    "            ]\n",
    "query = 'insert into ceremonies (Year, Host) values (?,?);'\n",
    "conn.executemany(query, years_hosts)\n",
    "\n",
    "print(conn.execute('select * from ceremonies limit 10;').fetchall())\n",
    "print(conn.execute('pragma table_info(ceremonies)').fetchall())"
   ]
  },
  {
   "cell_type": "markdown",
   "metadata": {},
   "source": [
    "# Foreign Key Constrains"
   ]
  },
  {
   "cell_type": "code",
   "execution_count": 3,
   "metadata": {
    "scrolled": true
   },
   "outputs": [
    {
     "data": {
      "text/plain": [
       "<sqlite3.Cursor at 0x984757730>"
      ]
     },
     "execution_count": 3,
     "metadata": {},
     "output_type": "execute_result"
    }
   ],
   "source": [
    "conn.execute('PRAGMA foreign_keys = ON;')"
   ]
  },
  {
   "cell_type": "markdown",
   "metadata": {},
   "source": [
    "# Setting up one-to-many"
   ]
  },
  {
   "cell_type": "code",
   "execution_count": 4,
   "metadata": {},
   "outputs": [
    {
     "data": {
      "text/plain": [
       "<sqlite3.Cursor at 0x984757880>"
      ]
     },
     "execution_count": 4,
     "metadata": {},
     "output_type": "execute_result"
    }
   ],
   "source": [
    "create_nom2 = '''create table nominations_two (\n",
    "                    id integer primary key,\n",
    "                    category text,\n",
    "                    nominee text,\n",
    "                    movie text,\n",
    "                    character text,\n",
    "                    won integer,\n",
    "                    ceremony_id integer,\n",
    "                    foreign key(ceremony_id) references ceremonies(id));\n",
    "'''\n",
    "conn.execute(create_nom2)"
   ]
  },
  {
   "cell_type": "code",
   "execution_count": 5,
   "metadata": {},
   "outputs": [
    {
     "name": "stdout",
     "output_type": "stream",
     "text": [
      "[(1, 'Actor -- Leading Role', 'Javier Bardem', 'Biutiful', 'Uxbal', 0), (1, 'Actor -- Leading Role', 'Jeff Bridges', 'True Grit', 'Rooster Cogburn', 0), (1, 'Actor -- Leading Role', 'Jesse Eisenberg', 'The Social Network', 'Mark Zuckerberg', 0), (1, 'Actor -- Leading Role', 'Colin Firth', \"The King's Speech\", 'King George VI', 1), (1, 'Actor -- Leading Role', 'James Franco', '127 Hours', 'Aron Ralston', 0), (1, 'Actor -- Supporting Role', 'Christian Bale', 'The Fighter', 'Dicky Eklund', 1), (1, 'Actor -- Supporting Role', 'John Hawkes', \"Winter's Bone\", 'Teardrop', 0), (1, 'Actor -- Supporting Role', 'Jeremy Renner', 'The Town', 'James Coughlin', 0), (1, 'Actor -- Supporting Role', 'Mark Ruffalo', 'The Kids Are All Right', 'Paul', 0), (1, 'Actor -- Supporting Role', 'Geoffrey Rush', \"The King's Speech\", 'Lionel Logue', 0), (1, 'Actress -- Leading Role', 'Annette Bening', 'The Kids Are All Right', 'Nic', 0), (1, 'Actress -- Leading Role', 'Nicole Kidman', 'Rabbit Hole', 'Becca', 0), (1, 'Actress -- Leading Role', 'Jennifer Lawrence', \"Winter's Bone\", 'Ree', 0), (1, 'Actress -- Leading Role', 'Natalie Portman', 'Black Swan', 'Nina Sayers/The Swan Queen', 1), (1, 'Actress -- Leading Role', 'Michelle Williams', 'Blue Valentine', 'Cindy', 0), (1, 'Actress -- Supporting Role', 'Amy Adams', 'The Fighter', 'Charlene Fleming', 0), (1, 'Actress -- Supporting Role', 'Helena Bonham Carter', \"The King's Speech\", 'Queen Elizabeth', 0), (1, 'Actress -- Supporting Role', 'Melissa Leo', 'The Fighter', 'Alice Ward', 1), (1, 'Actress -- Supporting Role', 'Hailee Steinfeld', 'True Grit', 'Mattie Ross', 0), (1, 'Actress -- Supporting Role', 'Jacki Weaver', 'Animal Kingdom', \"Janine 'Smurf' Cody\", 0), (2, 'Actor -- Leading Role', 'Jeff Bridges', 'Crazy Heart', 'Bad Blake', 1), (2, 'Actor -- Leading Role', 'George Clooney', 'Up in the Air', 'Ryan Bingham', 0), (2, 'Actor -- Leading Role', 'Colin Firth', 'A Single Man', 'George', 0), (2, 'Actor -- Leading Role', 'Morgan Freeman', 'Invictus', 'Nelson Mandela', 0), (2, 'Actor -- Leading Role', 'Jeremy Renner', 'The Hurt Locker', 'Staff Sergeant William James', 0), (2, 'Actor -- Supporting Role', 'Matt Damon', 'Invictus', 'Francois Pienaar', 0), (2, 'Actor -- Supporting Role', 'Woody Harrelson', 'The Messenger', 'Captain Tony Stone', 0), (2, 'Actor -- Supporting Role', 'Christopher Plummer', 'The Last Station', 'Tolstoy', 0), (2, 'Actor -- Supporting Role', 'Stanley Tucci', 'The Lovely Bones', 'George Harvey', 0), (2, 'Actor -- Supporting Role', 'Christoph Waltz', 'Inglourious Basterds', 'Col. Hans Landa', 1), (2, 'Actress -- Leading Role', 'Sandra Bullock', 'The Blind Side', 'Leigh Anne Tuohy', 1), (2, 'Actress -- Leading Role', 'Helen Mirren', 'The Last Station', 'Sofya', 0), (2, 'Actress -- Leading Role', 'Carey Mulligan', 'An Education', 'Jenny', 0), (2, 'Actress -- Leading Role', 'Gabourey Sidibe', \"Precious: Based on the Novel 'Push' by Sapphire\", 'Precious', 0), (2, 'Actress -- Leading Role', 'Meryl Streep', 'Julie & Julia', 'Julia Child', 0), (2, 'Actress -- Supporting Role', 'Penélope Cruz', 'Nine', 'Carla', 0), (2, 'Actress -- Supporting Role', 'Vera Farmiga', 'Up in the Air', 'Alex Goran', 0), (2, 'Actress -- Supporting Role', 'Maggie Gyllenhaal', 'Crazy Heart', 'Jean Craddock', 0), (2, 'Actress -- Supporting Role', 'Anna Kendrick', 'Up in the Air', 'Natalie Keener', 0), (2, 'Actress -- Supporting Role', \"Mo'Nique\", \"Precious: Based on the Novel 'Push' by Sapphire\", 'Mary', 1), (3, 'Actor -- Leading Role', 'Richard Jenkins', 'The Visitor', 'Walter', 0), (3, 'Actor -- Leading Role', 'Frank Langella', 'Frost/Nixon', 'Richard Nixon', 0), (3, 'Actor -- Leading Role', 'Sean Penn', 'Milk', 'Harvey Milk', 1), (3, 'Actor -- Leading Role', 'Brad Pitt', 'The Curious Case of Benjamin Button', 'Benjamin Button', 0), (3, 'Actor -- Leading Role', 'Mickey Rourke', 'The Wrestler', 'Randy', 0), (3, 'Actor -- Supporting Role', 'Josh Brolin', 'Milk', 'Dan White', 0), (3, 'Actor -- Supporting Role', 'Robert Downey Jr.', 'Tropic Thunder', 'Kirk Lazarus', 0), (3, 'Actor -- Supporting Role', 'Philip Seymour Hoffman', 'Doubt', 'Father Brendan Flynn', 0), (3, 'Actor -- Supporting Role', 'Heath Ledger', 'The Dark Knight', 'Joker', 1), (3, 'Actor -- Supporting Role', 'Michael Shannon', 'Revolutionary Road', 'John Givings', 0), (3, 'Actress -- Leading Role', 'Anne Hathaway', 'Rachel Getting Married', 'Kym', 0), (3, 'Actress -- Leading Role', 'Angelina Jolie', 'Changeling', 'Christine Collins', 0), (3, 'Actress -- Leading Role', 'Melissa Leo', 'Frozen River', 'Ray Eddy', 0), (3, 'Actress -- Leading Role', 'Meryl Streep', 'Doubt', 'Sister Aloysius Beauvier', 0), (3, 'Actress -- Leading Role', 'Kate Winslet', 'The Reader', 'Hanna Schmitz', 1), (3, 'Actress -- Supporting Role', 'Amy Adams', 'Doubt', 'Sister James', 0), (3, 'Actress -- Supporting Role', 'Penélope Cruz', 'Vicky Cristina Barcelona', 'Maria Elena', 1), (3, 'Actress -- Supporting Role', 'Viola Davis', 'Doubt', 'Mrs. Miller', 0), (3, 'Actress -- Supporting Role', 'Taraji P. Henson', 'The Curious Case of Benjamin Button', 'Queenie', 0), (3, 'Actress -- Supporting Role', 'Marisa Tomei', 'The Wrestler', 'Cassidy', 0), (4, 'Actor -- Leading Role', 'George Clooney', 'Michael Clayton', 'Michael Clayton', 0), (4, 'Actor -- Leading Role', 'Daniel Day-Lewis', 'There Will Be Blood', 'Daniel Plainview', 1), (4, 'Actor -- Leading Role', 'Johnny Depp', 'Sweeney Todd The Demon Barber of Fleet Street', 'Sweeney Todd', 0), (4, 'Actor -- Leading Role', 'Tommy Lee Jones', 'In the Valley of Elah', 'Hank Deerfield', 0), (4, 'Actor -- Leading Role', 'Viggo Mortensen', 'Eastern Promises', 'Nikolai', 0), (4, 'Actor -- Supporting Role', 'Casey Affleck', 'The Assassination of Jesse James by the Coward Robert Ford', 'Robert Ford', 0), (4, 'Actor -- Supporting Role', 'Javier Bardem', 'No Country for Old Men', 'Anton Chigurh', 1), (4, 'Actor -- Supporting Role', 'Philip Seymour Hoffman', \"Charlie Wilson's War\", 'Gust Avrakotos', 0), (4, 'Actor -- Supporting Role', 'Hal Holbrook', 'Into the Wild', 'Ron Franz', 0), (4, 'Actor -- Supporting Role', 'Tom Wilkinson', 'Michael Clayton', 'Arthur Edens', 0), (4, 'Actress -- Leading Role', 'Cate Blanchett', 'Elizabeth: The Golden Age', 'Queen Elizabeth I', 0), (4, 'Actress -- Leading Role', 'Julie Christie', 'Away from Her', 'Fiona', 0), (4, 'Actress -- Leading Role', 'Marion Cotillard', 'La Vie en Rose', 'Edith Piaf', 1), (4, 'Actress -- Leading Role', 'Laura Linney', 'The Savages', 'Wendy Savage', 0), (4, 'Actress -- Leading Role', 'Ellen Page', 'Juno', 'Juno MacGuff', 0), (4, 'Actress -- Supporting Role', 'Cate Blanchett', \"I'm Not There\", 'Jude', 0), (4, 'Actress -- Supporting Role', 'Ruby Dee', 'American Gangster', 'Mama Lucas', 0), (4, 'Actress -- Supporting Role', 'Saoirse Ronan', 'Atonement', 'Briony Tallis, aged 13', 0), (4, 'Actress -- Supporting Role', 'Amy Ryan', 'Gone Baby Gone', 'Helene McCready', 0), (4, 'Actress -- Supporting Role', 'Tilda Swinton', 'Michael Clayton', 'Karen Crowder', 1), (5, 'Actor -- Leading Role', 'Leonardo DiCaprio', 'Blood Diamond', 'Danny Archer', 0), (5, 'Actor -- Leading Role', 'Ryan Gosling', 'Half Nelson', 'Dan Dunne', 0), (5, 'Actor -- Leading Role', \"Peter O'Toole\", 'Venus', 'Maurice', 0), (5, 'Actor -- Leading Role', 'Will Smith', 'The Pursuit of Happyness', 'Chris Gardner', 0), (5, 'Actor -- Leading Role', 'Forest Whitaker', 'The Last King of Scotland', 'Idi Amin', 1), (5, 'Actor -- Supporting Role', 'Alan Arkin', 'Little Miss Sunshine', 'Grandpa', 1), (5, 'Actor -- Supporting Role', 'Jackie Earle Haley', 'Little Children', 'Ronnie J. McGorvey', 0), (5, 'Actor -- Supporting Role', 'Djimon Hounsou', 'Blood Diamond', 'Solomon Vandy', 0), (5, 'Actor -- Supporting Role', 'Eddie Murphy', 'Dreamgirls', \"James 'Thunder' Early\", 0), (5, 'Actor -- Supporting Role', 'Mark Wahlberg', 'The Departed', 'Dignam', 0), (5, 'Actress -- Leading Role', 'Penélope Cruz', 'Volver', 'Raimunda', 0), (5, 'Actress -- Leading Role', 'Judi Dench', 'Notes on a Scandal', 'Barbara Covett', 0), (5, 'Actress -- Leading Role', 'Helen Mirren', 'The Queen', 'The Queen', 1), (5, 'Actress -- Leading Role', 'Meryl Streep', 'The Devil Wears Prada', 'Miranda Priestly', 0), (5, 'Actress -- Leading Role', 'Kate Winslet', 'Little Children', 'Sarah Pierce', 0), (5, 'Actress -- Supporting Role', 'Adriana Barraza', 'Babel', 'Amelia', 0), (5, 'Actress -- Supporting Role', 'Cate Blanchett', 'Notes on a Scandal', 'Sheba Hart', 0), (5, 'Actress -- Supporting Role', 'Abigail Breslin', 'Little Miss Sunshine', 'Olive', 0), (5, 'Actress -- Supporting Role', 'Jennifer Hudson', 'Dreamgirls', 'Effie White', 1), (5, 'Actress -- Supporting Role', 'Rinko Kikuchi', 'Babel', 'Chieko', 0), (6, 'Actor -- Leading Role', 'Philip Seymour Hoffman', 'Capote', 'Truman Capote', 1), (6, 'Actor -- Leading Role', 'Terrence Howard', 'Hustle & Flow', 'DJay', 0), (6, 'Actor -- Leading Role', 'Heath Ledger', 'Brokeback Mountain', 'Ennis Del Mar', 0), (6, 'Actor -- Leading Role', 'Joaquin Phoenix', 'Walk the Line', 'John R. Cash', 0), (6, 'Actor -- Leading Role', 'David Strathairn', 'Good Night, and Good Luck.', 'Edward R. Murrow', 0), (6, 'Actor -- Supporting Role', 'George Clooney', 'Syriana', 'Bob Barnes', 1), (6, 'Actor -- Supporting Role', 'Matt Dillon', 'Crash', 'Officer Ryan', 0), (6, 'Actor -- Supporting Role', 'Paul Giamatti', 'Cinderella Man', 'Joe Gould', 0), (6, 'Actor -- Supporting Role', 'Jake Gyllenhaal', 'Brokeback Mountain', 'Jack Twist', 0), (6, 'Actor -- Supporting Role', 'William Hurt', 'A History of Violence', 'Richie Cusack', 0), (6, 'Actress -- Leading Role', 'Judi Dench', 'Mrs. Henderson Presents', 'Mrs. Laura Henderson', 0), (6, 'Actress -- Leading Role', 'Felicity Huffman', 'Transamerica', 'Bree', 0), (6, 'Actress -- Leading Role', 'Keira Knightley', 'Pride & Prejudice', 'Elizabeth Bennet', 0), (6, 'Actress -- Leading Role', 'Charlize Theron', 'North Country', 'Josey Aimes', 0), (6, 'Actress -- Leading Role', 'Reese Witherspoon', 'Walk the Line', 'June Carter', 1), (6, 'Actress -- Supporting Role', 'Amy Adams', 'Junebug', 'Ashley', 0), (6, 'Actress -- Supporting Role', 'Catherine Keener', 'Capote', 'Nelle Harper Lee', 0), (6, 'Actress -- Supporting Role', 'Frances McDormand', 'North Country', 'Glory', 0), (6, 'Actress -- Supporting Role', 'Rachel Weisz', 'The Constant Gardener', 'Tessa Quayle', 1), (6, 'Actress -- Supporting Role', 'Michelle Williams', 'Brokeback Mountain', 'Alma', 0), (7, 'Actor -- Leading Role', 'Don Cheadle', 'Hotel Rwanda', 'Paul Rusesabagina', 0), (7, 'Actor -- Leading Role', 'Johnny Depp', 'Finding Neverland', 'Sir James Matthew Barrie', 0), (7, 'Actor -- Leading Role', 'Leonardo DiCaprio', 'The Aviator', 'Howard Hughes', 0), (7, 'Actor -- Leading Role', 'Clint Eastwood', 'Million Dollar Baby', 'Frankie Dunn', 0), (7, 'Actor -- Leading Role', 'Jamie Foxx', 'Ray', 'Ray Charles', 1), (7, 'Actor -- Supporting Role', 'Alan Alda', 'The Aviator', 'Senator Ralph Owen Brewster', 0), (7, 'Actor -- Supporting Role', 'Thomas Haden Church', 'Sideways', 'Jack', 0), (7, 'Actor -- Supporting Role', 'Jamie Foxx', 'Collateral', 'Max', 0), (7, 'Actor -- Supporting Role', 'Morgan Freeman', 'Million Dollar Baby', 'Eddie Scrap-Iron Dupris', 1), (7, 'Actor -- Supporting Role', 'Clive Owen', 'Closer', 'Larry', 0), (7, 'Actress -- Leading Role', 'Annette Bening', 'Being Julia', 'Julia Lambert', 0), (7, 'Actress -- Leading Role', 'Catalina Sandino Moreno', 'Maria Full of Grace', 'Maria', 0), (7, 'Actress -- Leading Role', 'Imelda Staunton', 'Vera Drake', 'Vera', 0), (7, 'Actress -- Leading Role', 'Hilary Swank', 'Million Dollar Baby', 'Maggie Fitzgerald', 1), (7, 'Actress -- Leading Role', 'Kate Winslet', 'Eternal Sunshine of the Spotless Mind', 'Clementine Kruczynski', 0), (7, 'Actress -- Supporting Role', 'Cate Blanchett', 'The Aviator', 'Katharine Hepburn', 1), (7, 'Actress -- Supporting Role', 'Laura Linney', 'Kinsey', 'Clara McMillen', 0), (7, 'Actress -- Supporting Role', 'Virginia Madsen', 'Sideways', 'Maya', 0), (7, 'Actress -- Supporting Role', 'Sophie Okonedo', 'Hotel Rwanda', 'Tatiana Rusesabagina', 0), (7, 'Actress -- Supporting Role', 'Natalie Portman', 'Closer', 'Alice', 0), (8, 'Actor -- Leading Role', 'Johnny Depp', 'Pirates of the Caribbean: The Curse of the Black Pearl', 'Jack Sparrow', 0), (8, 'Actor -- Leading Role', 'Ben Kingsley', 'House of Sand and Fog', 'Behrani', 0), (8, 'Actor -- Leading Role', 'Jude Law', 'Cold Mountain', 'Inman', 0), (8, 'Actor -- Leading Role', 'Bill Murray', 'Lost in Translation', 'Bob Harris', 0), (8, 'Actor -- Leading Role', 'Sean Penn', 'Mystic River', 'Jimmy Markum', 1), (8, 'Actor -- Supporting Role', 'Alec Baldwin', 'The Cooler', 'Shelly Kaplow', 0), (8, 'Actor -- Supporting Role', 'Benicio Del Toro', '21 Grams', 'Jack Jordan', 0), (8, 'Actor -- Supporting Role', 'Djimon Hounsou', 'In America', 'Mateo', 0), (8, 'Actor -- Supporting Role', 'Tim Robbins', 'Mystic River', 'Dave Boyle', 1), (8, 'Actor -- Supporting Role', 'Ken Watanabe', 'The Last Samurai', 'Katsumoto', 0), (8, 'Actress -- Leading Role', 'Keisha Castle-Hughes', 'Whale Rider', 'Paikea', 0), (8, 'Actress -- Leading Role', 'Diane Keaton', \"Something's Gotta Give\", 'Erica Barry', 0), (8, 'Actress -- Leading Role', 'Samantha Morton', 'In America', 'Sarah', 0), (8, 'Actress -- Leading Role', 'Charlize Theron', 'Monster', 'Aileen Wuornos', 1), (8, 'Actress -- Leading Role', 'Naomi Watts', '21 Grams', 'Cristina Peck', 0), (8, 'Actress -- Supporting Role', 'Shohreh Aghdashloo', 'House of Sand and Fog', 'Nadi', 0), (8, 'Actress -- Supporting Role', 'Patricia Clarkson', 'Pieces of April', 'Joy Burns', 0), (8, 'Actress -- Supporting Role', 'Marcia Gay Harden', 'Mystic River', 'Celeste Boyle', 0), (8, 'Actress -- Supporting Role', 'Holly Hunter', 'Thirteen', 'Melanie', 0), (8, 'Actress -- Supporting Role', 'Renée Zellweger', 'Cold Mountain', 'Ruby Thewes', 1), (9, 'Actor -- Leading Role', 'Adrien Brody', 'The Pianist', 'Wladyslaw Szpilman', 1), (9, 'Actor -- Leading Role', 'Nicolas Cage', 'Adaptation', 'Charlie Kaufman & Donald Kaufman', 0), (9, 'Actor -- Leading Role', 'Michael Caine', 'The Quiet American', 'Thomas Fowler', 0), (9, 'Actor -- Leading Role', 'Daniel Day-Lewis', 'Gangs of New York', \"Bill 'The Butcher' Cutting\", 0), (9, 'Actor -- Leading Role', 'Jack Nicholson', 'About Schmidt', 'Warren Schmidt', 0), (9, 'Actor -- Supporting Role', 'Chris Cooper', 'Adaptation', 'John Laroche', 1), (9, 'Actor -- Supporting Role', 'Ed Harris', 'The Hours', 'Richard Brown', 0), (9, 'Actor -- Supporting Role', 'Paul Newman', 'Road to Perdition', 'John Rooney', 0), (9, 'Actor -- Supporting Role', 'John C. Reilly', 'Chicago', 'Amos Hart', 0), (9, 'Actor -- Supporting Role', 'Christopher Walken', 'Catch Me If You Can', 'Frank Abagnale', 0), (9, 'Actress -- Leading Role', 'Salma Hayek', 'Frida', 'Frida Kahlo', 0), (9, 'Actress -- Leading Role', 'Nicole Kidman', 'The Hours', 'Virginia Woolf', 1), (9, 'Actress -- Leading Role', 'Diane Lane', 'Unfaithful', 'Connie Sumner', 0), (9, 'Actress -- Leading Role', 'Julianne Moore', 'Far from Heaven', 'Cathy Whitaker', 0), (9, 'Actress -- Leading Role', 'Renée Zellweger', 'Chicago', 'Roxie Hart', 0), (9, 'Actress -- Supporting Role', 'Kathy Bates', 'About Schmidt', 'Roberta Hertzel', 0), (9, 'Actress -- Supporting Role', 'Julianne Moore', 'The Hours', 'Laura Brown', 0), (9, 'Actress -- Supporting Role', 'Queen Latifah', 'Chicago', 'Matron Mama Morton', 0), (9, 'Actress -- Supporting Role', 'Meryl Streep', 'Adaptation', 'Susan Orlean', 0), (9, 'Actress -- Supporting Role', 'Catherine Zeta-Jones', 'Chicago', 'Velma Kelly', 1), (10, 'Actor -- Leading Role', 'Russell Crowe', 'A Beautiful Mind', 'John Nash', 0), (10, 'Actor -- Leading Role', 'Sean Penn', 'I Am Sam', 'Sam Dawson', 0), (10, 'Actor -- Leading Role', 'Will Smith', 'Ali', 'Muhammad Ali', 0), (10, 'Actor -- Leading Role', 'Denzel Washington', 'Training Day', 'Alonzo', 1), (10, 'Actor -- Leading Role', 'Tom Wilkinson', 'In the Bedroom', 'Matt Fowler', 0), (10, 'Actor -- Supporting Role', 'Jim Broadbent', 'Iris', 'John Bayley', 1), (10, 'Actor -- Supporting Role', 'Ethan Hawke', 'Training Day', 'Jake', 0), (10, 'Actor -- Supporting Role', 'Ben Kingsley', 'Sexy Beast', 'Don Logan', 0), (10, 'Actor -- Supporting Role', 'Ian McKellen', 'The Lord of the Rings: The Fellowship of the Ring', 'Gandalf', 0), (10, 'Actor -- Supporting Role', 'Jon Voight', 'Ali', 'Howard Cosell', 0), (10, 'Actress -- Leading Role', 'Halle Berry', \"Monster's Ball\", 'Leticia Musgrove', 1), (10, 'Actress -- Leading Role', 'Judi Dench', 'Iris', 'Iris Murdoch', 0), (10, 'Actress -- Leading Role', 'Nicole Kidman', 'Moulin Rouge', 'Satine', 0), (10, 'Actress -- Leading Role', 'Sissy Spacek', 'In the Bedroom', 'Ruth Fowler', 0), (10, 'Actress -- Leading Role', 'Renée Zellweger', \"Bridget Jones's Diary\", 'Bridget Jones', 0), (10, 'Actress -- Supporting Role', 'Jennifer Connelly', 'A Beautiful Mind', 'Alicia Nash', 1), (10, 'Actress -- Supporting Role', 'Helen Mirren', 'Gosford Park', 'Mrs. Wilson', 0), (10, 'Actress -- Supporting Role', 'Maggie Smith', 'Gosford Park', 'Constance, Countess of Trentham', 0), (10, 'Actress -- Supporting Role', 'Marisa Tomei', 'In the Bedroom', 'Natalie Strout', 0), (10, 'Actress -- Supporting Role', 'Kate Winslet', 'Iris', 'Young Iris Murdoch', 0)]\n"
     ]
    }
   ],
   "source": [
    "join_q = '''\n",
    "    SELECT ceremonies.id as ceremony_id, nominations.category as category,\n",
    "    nominations.nominee as nominee, nominations.movie as movie,\n",
    "    nominations.character as character, nominations.won as won\n",
    "    FROM nominations\n",
    "    INNER JOIN ceremonies ON nominations.year == ceremonies.year;\n",
    "'''\n",
    "joined_nominations = conn.execute(join_q).fetchall()\n",
    "print(joined_nominations)"
   ]
  },
  {
   "cell_type": "code",
   "execution_count": 6,
   "metadata": {},
   "outputs": [
    {
     "name": "stdout",
     "output_type": "stream",
     "text": [
      "[(1, 'Actor -- Leading Role', 'Javier Bardem', 'Biutiful', 'Uxbal', 0, 1), (2, 'Actor -- Leading Role', 'Jeff Bridges', 'True Grit', 'Rooster Cogburn', 0, 1), (3, 'Actor -- Leading Role', 'Jesse Eisenberg', 'The Social Network', 'Mark Zuckerberg', 0, 1), (4, 'Actor -- Leading Role', 'Colin Firth', \"The King's Speech\", 'King George VI', 1, 1), (5, 'Actor -- Leading Role', 'James Franco', '127 Hours', 'Aron Ralston', 0, 1)]\n"
     ]
    }
   ],
   "source": [
    "insert_nominations_two = '''insert into nominations_two (ceremony_id, category, nominee, movie, character, won) \n",
    "values (?,?,?,?,?,?);\n",
    "'''\n",
    "conn.executemany(insert_nominations_two, joined_nominations)\n",
    "print(conn.execute('select * from nominations_two limit 5').fetchall())"
   ]
  },
  {
   "cell_type": "markdown",
   "metadata": {},
   "source": [
    "# Deleting and Renaming Tables"
   ]
  },
  {
   "cell_type": "code",
   "execution_count": 7,
   "metadata": {},
   "outputs": [
    {
     "data": {
      "text/plain": [
       "<sqlite3.Cursor at 0x9847577a0>"
      ]
     },
     "execution_count": 7,
     "metadata": {},
     "output_type": "execute_result"
    }
   ],
   "source": [
    "conn.execute('drop table nominations;')\n",
    "conn.execute('alter table nominations_two rename to nominations;')"
   ]
  },
  {
   "cell_type": "markdown",
   "metadata": {},
   "source": [
    "# Creating a join table"
   ]
  },
  {
   "cell_type": "code",
   "execution_count": 8,
   "metadata": {},
   "outputs": [
    {
     "data": {
      "text/plain": [
       "<sqlite3.Cursor at 0x984757c00>"
      ]
     },
     "execution_count": 8,
     "metadata": {},
     "output_type": "execute_result"
    }
   ],
   "source": [
    "#conn.execute('drop table movies;')\n",
    "#conn.execute('drop table actors;')\n",
    "#conn.execute('drop table movies_actors;')\n",
    "\n",
    "create_movies = 'create table movies (id integer primary key, movie text);'\n",
    "create_actors = 'create table actors (id integer primary key, actor text);'\n",
    "create_movies_actors = ''' create table movies_actors(\n",
    "    id integer primary key, \n",
    "    movie_id integer references movies(id),\n",
    "    actor_id integer references actors(id));\n",
    "'''\n",
    "\n",
    "conn.execute(create_movies)\n",
    "conn.execute(create_actors)\n",
    "conn.execute(create_movies_actors)"
   ]
  },
  {
   "cell_type": "code",
   "execution_count": null,
   "metadata": {
    "collapsed": true
   },
   "outputs": [],
   "source": []
  }
 ],
 "metadata": {
  "kernelspec": {
   "display_name": "Python 3",
   "language": "python",
   "name": "python3"
  },
  "language_info": {
   "codemirror_mode": {
    "name": "ipython",
    "version": 3
   },
   "file_extension": ".py",
   "mimetype": "text/x-python",
   "name": "python",
   "nbconvert_exporter": "python",
   "pygments_lexer": "ipython3",
   "version": "3.6.1"
  }
 },
 "nbformat": 4,
 "nbformat_minor": 1
}
